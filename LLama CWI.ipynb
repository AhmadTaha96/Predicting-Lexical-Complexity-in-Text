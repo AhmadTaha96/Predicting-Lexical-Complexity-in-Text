{
 "cells": [
  {
   "cell_type": "code",
   "execution_count": 1,
   "metadata": {
    "_cell_guid": "b1076dfc-b9ad-4769-8c92-a6c4dae69d19",
    "_uuid": "8f2839f25d086af736a60e9eeb907d3b93b6e0e5",
    "execution": {
     "iopub.execute_input": "2024-06-20T09:41:09.006763Z",
     "iopub.status.busy": "2024-06-20T09:41:09.006016Z",
     "iopub.status.idle": "2024-06-20T09:41:13.902963Z",
     "shell.execute_reply": "2024-06-20T09:41:13.901892Z",
     "shell.execute_reply.started": "2024-06-20T09:41:09.006733Z"
    }
   },
   "outputs": [],
   "source": [
    "from time import time\n",
    "import torch\n",
    "import transformers\n",
    "from transformers import AutoTokenizer, AutoModelForCausalLM\n",
    "from IPython.display import display, Markdown"
   ]
  },
  {
   "cell_type": "code",
   "execution_count": 2,
   "metadata": {
    "execution": {
     "iopub.execute_input": "2024-06-20T09:41:13.906001Z",
     "iopub.status.busy": "2024-06-20T09:41:13.904654Z",
     "iopub.status.idle": "2024-06-20T09:41:14.210756Z",
     "shell.execute_reply": "2024-06-20T09:41:14.209565Z",
     "shell.execute_reply.started": "2024-06-20T09:41:13.905971Z"
    }
   },
   "outputs": [
    {
     "name": "stdout",
     "output_type": "stream",
     "text": [
      "The token has not been saved to the git credentials helper. Pass `add_to_git_credential=True` in this function directly or `--add-to-git-credential` if using via `huggingface-cli` if you want to set the git credential as well.\n",
      "Token is valid (permission: write).\n",
      "Your token has been saved to /root/.cache/huggingface/token\n",
      "Login successful\n"
     ]
    }
   ],
   "source": [
    "from huggingface_hub import login\n",
    "login(token = \"\")"
   ]
  },
  {
   "cell_type": "code",
   "execution_count": 4,
   "metadata": {
    "execution": {
     "iopub.execute_input": "2024-06-20T09:42:18.814497Z",
     "iopub.status.busy": "2024-06-20T09:42:18.814095Z",
     "iopub.status.idle": "2024-06-20T09:44:06.031499Z",
     "shell.execute_reply": "2024-06-20T09:44:06.030668Z",
     "shell.execute_reply.started": "2024-06-20T09:42:18.814465Z"
    }
   },
   "outputs": [
    {
     "data": {
      "application/vnd.jupyter.widget-view+json": {
       "model_id": "4375f016bae1495089c1cab8665b6721",
       "version_major": 2,
       "version_minor": 0
      },
      "text/plain": [
       "Loading checkpoint shards:   0%|          | 0/4 [00:00<?, ?it/s]"
      ]
     },
     "metadata": {},
     "output_type": "display_data"
    },
    {
     "name": "stderr",
     "output_type": "stream",
     "text": [
      "Special tokens have been added in the vocabulary, make sure the associated word embeddings are fine-tuned or trained.\n"
     ]
    }
   ],
   "source": [
    "model = \"/kaggle/input/llama-3/transformers/8b-chat-hf/1\"\n",
    "\n",
    "pipeline = transformers.pipeline(\n",
    "    \"text-generation\",\n",
    "    model=model,\n",
    "    torch_dtype=torch.float16,\n",
    "    device_map=\"auto\",\n",
    ")"
   ]
  },
  {
   "cell_type": "code",
   "execution_count": 59,
   "metadata": {
    "execution": {
     "iopub.execute_input": "2024-06-20T10:03:56.534747Z",
     "iopub.status.busy": "2024-06-20T10:03:56.534013Z",
     "iopub.status.idle": "2024-06-20T10:03:56.542225Z",
     "shell.execute_reply": "2024-06-20T10:03:56.541254Z",
     "shell.execute_reply.started": "2024-06-20T10:03:56.534710Z"
    }
   },
   "outputs": [],
   "source": [
    "from time import time\n",
    "def query_model(\n",
    "        system_message,\n",
    "        user_message,\n",
    "        temperature=0.1,\n",
    "        max_length=50,\n",
    "        top_p = 0.3\n",
    "        ):\n",
    "    user_message = \"Question: \" + user_message + \" Answer:\"\n",
    "    messages = [\n",
    "        {\"role\": \"system\", \"content\": system_message},\n",
    "        {\"role\": \"user\", \"content\": user_message},\n",
    "        ]\n",
    "    prompt = pipeline.tokenizer.apply_chat_template(\n",
    "        messages, \n",
    "        tokenize=False, \n",
    "        add_generation_prompt=True\n",
    "        )\n",
    "    terminators = [\n",
    "        pipeline.tokenizer.eos_token_id,\n",
    "        pipeline.tokenizer.convert_tokens_to_ids(\"<|eot_id|>\")\n",
    "    ]\n",
    "    sequences = pipeline(\n",
    "        prompt,\n",
    "        do_sample=True,\n",
    "        top_p=top_p,\n",
    "        temperature=temperature,\n",
    "        #num_return_sequences=1,\n",
    "        eos_token_id=terminators,\n",
    "        max_new_tokens=max_length,\n",
    "        return_full_text=False,\n",
    "        pad_token_id=pipeline.model.config.eos_token_id\n",
    "    )\n",
    "    #answer = f\"{sequences[0]['generated_text'][len(prompt):]}\\n\"\n",
    "    answer = sequences[0]['generated_text']\n",
    "\n",
    "    return user_message + \" \" + answer\n",
    "\n",
    "\n",
    "system_message = \"\"\"\n",
    "You are an AI assistant designed to answer simple questions.\n",
    "Please restrict your answer to the exact question asked.\n",
    "\"\"\""
   ]
  },
  {
   "cell_type": "code",
   "execution_count": 6,
   "metadata": {
    "execution": {
     "iopub.execute_input": "2024-06-20T09:44:06.043394Z",
     "iopub.status.busy": "2024-06-20T09:44:06.043109Z",
     "iopub.status.idle": "2024-06-20T09:44:06.053017Z",
     "shell.execute_reply": "2024-06-20T09:44:06.052214Z",
     "shell.execute_reply.started": "2024-06-20T09:44:06.043370Z"
    }
   },
   "outputs": [],
   "source": [
    "def colorize_text(text):\n",
    "    for word, color in zip([\"Reasoning\", \"Question\", \"Answer\", \"Total time\"], [\"blue\", \"red\", \"green\", \"magenta\"]):\n",
    "        text = text.replace(f\"{word}:\", f\"\\n\\n**<font color='{color}'>{word}:</font>**\")\n",
    "    return text"
   ]
  },
  {
   "cell_type": "code",
   "execution_count": 85,
   "metadata": {
    "execution": {
     "iopub.execute_input": "2024-06-20T10:14:26.326621Z",
     "iopub.status.busy": "2024-06-20T10:14:26.326207Z",
     "iopub.status.idle": "2024-06-20T10:14:26.353830Z",
     "shell.execute_reply": "2024-06-20T10:14:26.353088Z",
     "shell.execute_reply.started": "2024-06-20T10:14:26.326592Z"
    }
   },
   "outputs": [],
   "source": [
    "import pandas as pd\n",
    "df = pd.read_csv('/kaggle/input/cwi-dataset/cwi_training.txt', delimiter = \"\\t\", header = None)\n",
    "df.columns = [\"sentence\", \"token\", \"index\", \"score\"]"
   ]
  },
  {
   "cell_type": "code",
   "execution_count": 70,
   "metadata": {
    "execution": {
     "iopub.execute_input": "2024-06-20T10:08:56.018802Z",
     "iopub.status.busy": "2024-06-20T10:08:56.018412Z",
     "iopub.status.idle": "2024-06-20T10:08:56.024815Z",
     "shell.execute_reply": "2024-06-20T10:08:56.023624Z",
     "shell.execute_reply.started": "2024-06-20T10:08:56.018772Z"
    }
   },
   "outputs": [],
   "source": [
    "from sklearn.metrics import accuracy_score, recall_score, f1_score\n",
    "\n",
    "def g_score(labels, predicted):\n",
    "\n",
    "  accuracy = accuracy_score(labels, predicted)\n",
    "  recall = recall_score(labels, predicted)\n",
    "\n",
    "  return (2 * accuracy * recall) / (accuracy + recall)"
   ]
  },
  {
   "cell_type": "code",
   "execution_count": 67,
   "metadata": {
    "execution": {
     "iopub.execute_input": "2024-06-20T10:06:37.135975Z",
     "iopub.status.busy": "2024-06-20T10:06:37.135616Z",
     "iopub.status.idle": "2024-06-20T10:07:35.535884Z",
     "shell.execute_reply": "2024-06-20T10:07:35.534928Z",
     "shell.execute_reply.started": "2024-06-20T10:06:37.135944Z"
    }
   },
   "outputs": [
    {
     "data": {
      "application/vnd.jupyter.widget-view+json": {
       "model_id": "e312b490eeef488cb8098aa78ed42c33",
       "version_major": 2,
       "version_minor": 0
      },
      "text/plain": [
       "0it [00:00, ?it/s]"
      ]
     },
     "metadata": {},
     "output_type": "display_data"
    }
   ],
   "source": [
    "from tqdm.notebook import tqdm\n",
    "\n",
    "df = df.iloc[:35]\n",
    "result = []\n",
    "labels = df.score.values\n",
    "\n",
    "for index, row in tqdm(df.iterrows()):\n",
    "     response = query_model(\n",
    "        system_message,\n",
    "        user_message=f\"\"\"Question: Considering that even common words can be complex in contexts, is the word '{row['token']}' in the following sentence considered complex for a non-native English speaker? Please answer with 'Yes' or 'No'.\n",
    "            Context: '{row['sentence']}' \n",
    "        \"\"\",\n",
    "        temperature = 0.1,\n",
    "        max_length=25)\n",
    "     result.append(response[-3:])"
   ]
  },
  {
   "cell_type": "code",
   "execution_count": 68,
   "metadata": {
    "execution": {
     "iopub.execute_input": "2024-06-20T10:08:07.945958Z",
     "iopub.status.busy": "2024-06-20T10:08:07.945583Z",
     "iopub.status.idle": "2024-06-20T10:08:07.950711Z",
     "shell.execute_reply": "2024-06-20T10:08:07.949590Z",
     "shell.execute_reply.started": "2024-06-20T10:08:07.945926Z"
    }
   },
   "outputs": [],
   "source": [
    "results = [1 if i.rstrip() == \"Yes\" else 0 for i in result]"
   ]
  },
  {
   "cell_type": "code",
   "execution_count": 78,
   "metadata": {
    "execution": {
     "iopub.execute_input": "2024-06-20T10:10:35.413479Z",
     "iopub.status.busy": "2024-06-20T10:10:35.412662Z",
     "iopub.status.idle": "2024-06-20T10:10:35.426653Z",
     "shell.execute_reply": "2024-06-20T10:10:35.425680Z",
     "shell.execute_reply.started": "2024-06-20T10:10:35.413446Z"
    }
   },
   "outputs": [
    {
     "name": "stdout",
     "output_type": "stream",
     "text": [
      "accuracy 65.71428571428571\n",
      "recall 76.0\n",
      "F1-Score 76.0\n",
      "G-Score 70.48387096774194\n"
     ]
    }
   ],
   "source": [
    "print(\"accuracy\", accuracy_score(labels, results) * 100)\n",
    "print(\"recall\", recall_score(labels, results) * 100)\n",
    "print(\"F1-Score\", f1_score(labels, results) * 100)\n",
    "print(\"G-Score\", g_score(labels, results) * 100)"
   ]
  },
  {
   "cell_type": "code",
   "execution_count": 86,
   "metadata": {
    "execution": {
     "iopub.execute_input": "2024-06-20T10:14:30.350498Z",
     "iopub.status.busy": "2024-06-20T10:14:30.349565Z",
     "iopub.status.idle": "2024-06-20T10:16:08.353245Z",
     "shell.execute_reply": "2024-06-20T10:16:08.352280Z",
     "shell.execute_reply.started": "2024-06-20T10:14:30.350464Z"
    }
   },
   "outputs": [
    {
     "data": {
      "application/vnd.jupyter.widget-view+json": {
       "model_id": "68660e2164cd4cf3802245daf2c3f46b",
       "version_major": 2,
       "version_minor": 0
      },
      "text/plain": [
       "0it [00:00, ?it/s]"
      ]
     },
     "metadata": {},
     "output_type": "display_data"
    }
   ],
   "source": [
    "from tqdm.notebook import tqdm\n",
    "\n",
    "df = df.iloc[-50:]\n",
    "result = []\n",
    "labels = df.score.values\n",
    "\n",
    "for index, row in tqdm(df.iterrows()):\n",
    "     response = query_model(\n",
    "        system_message,\n",
    "        user_message=f\"\"\"Question: Considering that even common words can be complex in contexts, is the word '{row['token']}' in the following sentence considered complex for a non-native English speaker? Please answer with 'Yes' or 'No'.\n",
    "            Context: '{row['sentence']}' \n",
    "        \"\"\",\n",
    "        temperature = 0.1,\n",
    "        max_length=25)\n",
    "     result.append(response[-3:])"
   ]
  },
  {
   "cell_type": "code",
   "execution_count": 87,
   "metadata": {
    "execution": {
     "iopub.execute_input": "2024-06-20T10:16:39.507976Z",
     "iopub.status.busy": "2024-06-20T10:16:39.507365Z",
     "iopub.status.idle": "2024-06-20T10:16:39.512307Z",
     "shell.execute_reply": "2024-06-20T10:16:39.511254Z",
     "shell.execute_reply.started": "2024-06-20T10:16:39.507945Z"
    }
   },
   "outputs": [],
   "source": [
    "results = [1 if i.rstrip() == \"Yes\" else 0 for i in result]"
   ]
  },
  {
   "cell_type": "code",
   "execution_count": 88,
   "metadata": {
    "execution": {
     "iopub.execute_input": "2024-06-20T10:16:40.161591Z",
     "iopub.status.busy": "2024-06-20T10:16:40.160896Z",
     "iopub.status.idle": "2024-06-20T10:16:40.175424Z",
     "shell.execute_reply": "2024-06-20T10:16:40.174235Z",
     "shell.execute_reply.started": "2024-06-20T10:16:40.161558Z"
    }
   },
   "outputs": [
    {
     "name": "stdout",
     "output_type": "stream",
     "text": [
      "accuracy 86.0\n",
      "recall 68.75\n",
      "F1-Score 75.86206896551724\n",
      "G-Score 76.41357027463651\n"
     ]
    }
   ],
   "source": [
    "print(\"accuracy\", accuracy_score(labels, results) * 100)\n",
    "print(\"recall\", recall_score(labels, results) * 100)\n",
    "print(\"F1-Score\", f1_score(labels, results) * 100)\n",
    "print(\"G-Score\", g_score(labels, results) * 100)"
   ]
  }
 ],
 "metadata": {
  "kernelspec": {
   "display_name": "Python 3 (ipykernel)",
   "language": "python",
   "name": "python3"
  },
  "language_info": {
   "codemirror_mode": {
    "name": "ipython",
    "version": 3
   },
   "file_extension": ".py",
   "mimetype": "text/x-python",
   "name": "python",
   "nbconvert_exporter": "python",
   "pygments_lexer": "ipython3",
   "version": "3.10.12"
  }
 },
 "nbformat": 4,
 "nbformat_minor": 4
}
